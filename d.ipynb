{
 "cells": [
  {
   "cell_type": "code",
   "execution_count": 15,
   "metadata": {},
   "outputs": [
    {
     "name": "stdout",
     "output_type": "stream",
     "text": [
      "NaN values in merged data:\n",
      "Level_x                             0\n",
      "Date_x                              0\n",
      "State FIPS                          7\n",
      "State Postal Code                   7\n",
      "County FIPS                       364\n",
      "County Name                       364\n",
      "Population Staying at Home_x      349\n",
      "Population Not Staying at Home    349\n",
      "Number of Trips                   349\n",
      "Number of Trips <1                349\n",
      "Number of Trips 1-3               349\n",
      "Number of Trips 3-5               349\n",
      "Number of Trips 5-10              349\n",
      "Number of Trips 10-25             349\n",
      "Number of Trips 25-50             349\n",
      "Number of Trips 50-100            349\n",
      "Number of Trips 100-250           349\n",
      "Number of Trips 250-500           349\n",
      "Number of Trips >=500             349\n",
      "Row ID                              0\n",
      "Week                                0\n",
      "Month                               0\n",
      "date                                0\n",
      "Month of Date                       0\n",
      "Week of Date                        0\n",
      "Year of Date                        0\n",
      "Level_y                             0\n",
      "Date_y                              0\n",
      "Week Ending Date                    0\n",
      "Trips <1 Mile                       0\n",
      "People Not Staying at Home          0\n",
      "Population Staying at Home_y        0\n",
      "Trips                               0\n",
      "Trips 1-25 Miles                    0\n",
      "Trips 1-3 Miles                     0\n",
      "Trips 10-25 Miles                   0\n",
      "Trips 100-250 Miles                 0\n",
      "Trips 100+ Miles                    0\n",
      "Trips 25-100 Miles                  0\n",
      "Trips 25-50 Miles                   0\n",
      "Trips 250-500 Miles                 0\n",
      "Trips 3-5 Miles                     0\n",
      "Trips 5-10 Miles                    0\n",
      "Trips 50-100 Miles                  0\n",
      "Trips 500+ Miles                    0\n",
      "dtype: int64\n",
      "model R^2 score: -0.0005619863225544419\n"
     ]
    }
   ],
   "source": [
    "import pandas as pd\n",
    "from sklearn.model_selection import train_test_split\n",
    "from sklearn.linear_model import LinearRegression\n",
    "from sklearn.metrics import r2_score\n",
    "\n",
    "\n",
    "trips = pd.read_csv('Trips_By_Distance.csv')\n",
    "full_data = pd.read_csv('Trips_Full_Data.csv')\n",
    "\n",
    "\n",
    "trips['date'] = pd.to_datetime(trips['Date'])\n",
    "full_data['date'] = pd.to_datetime(full_data['Date'], format='%d/%m/%Y %H:%M')  # UK date format\n",
    "\n",
    "\n",
    "data = pd.merge(trips, full_data, on='date', how='inner')\n",
    "\n",
    "\n",
    "print(\"NaN values in merged data:\")\n",
    "print(data.isna().sum())\n",
    "\n",
    "\n",
    "features = data[['Trips 1-25 Miles', 'Trips 25-100 Miles']].fillna(0).values\n",
    "target = data[['Number of Trips 5-10', 'Number of Trips 10-25']].fillna(0).values\n",
    "\n",
    "\n",
    "assert features.shape[0] == target.shape[0], \"features and targets samples have to be equal after NaN filtering\"\n",
    "\n",
    "\n",
    "features_train, features_test, target_train, target_test = train_test_split(features, target, test_size=0.2, random_state=42)\n",
    "\n",
    "\n",
    "model = LinearRegression()\n",
    "model.fit(features_train, target_train)\n",
    "\n",
    "\n",
    "predictions = model.predict(features_test)\n",
    "score = r2_score(target_test, predictions)\n",
    "\n",
    "\n",
    "print('model R^2 score:', score)"
   ]
  }
 ],
 "metadata": {
  "kernelspec": {
   "display_name": "Python 3.11.2 64-bit",
   "language": "python",
   "name": "python3"
  },
  "language_info": {
   "codemirror_mode": {
    "name": "ipython",
    "version": 3
   },
   "file_extension": ".py",
   "mimetype": "text/x-python",
   "name": "python",
   "nbconvert_exporter": "python",
   "pygments_lexer": "ipython3",
   "version": "3.11.2"
  },
  "orig_nbformat": 4,
  "vscode": {
   "interpreter": {
    "hash": "aee8b7b246df8f9039afb4144a1f6fd8d2ca17a180786b69acc140d282b71a49"
   }
  }
 },
 "nbformat": 4,
 "nbformat_minor": 2
}
